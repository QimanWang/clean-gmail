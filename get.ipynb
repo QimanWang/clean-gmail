{
 "cells": [
  {
   "cell_type": "code",
   "execution_count": 2,
   "metadata": {},
   "outputs": [],
   "source": [
    "from __future__ import print_function\n",
    "import pickle\n",
    "import os.path\n",
    "from googleapiclient.discovery import build\n",
    "from google_auth_oauthlib.flow import InstalledAppFlow\n",
    "from google.auth.transport.requests import Request\n",
    "from pprint import pprint\n",
    "# import csv\n",
    "import json\n",
    "import datetime\n",
    "import unicodecsv as csv\n",
    "\n",
    "# If modifying these scopes, delete the file token.pickle.\n",
    "SCOPES = ['https://www.googleapis.com/auth/gmail.readonly']\n"
   ]
  },
  {
   "cell_type": "code",
   "execution_count": 3,
   "metadata": {},
   "outputs": [],
   "source": [
    "def get_creds():\n",
    "    creds = None\n",
    "    # The file token.pickle stores the user's access and refresh tokens, and is\n",
    "    # created automatically when the authorization flow completes for the first\n",
    "    # time.\n",
    "    if os.path.exists('token.pickle'):\n",
    "        with open('token.pickle', 'rb') as token:\n",
    "            creds = pickle.load(token)\n",
    "    # If there are no (valid) credentials available, let the user log in.\n",
    "    if not creds or not creds.valid:\n",
    "        if creds and creds.expired and creds.refresh_token:\n",
    "            creds.refresh(Request())\n",
    "        else:\n",
    "            flow = InstalledAppFlow.from_client_secrets_file(\n",
    "                'credentials.json', SCOPES)\n",
    "            creds = flow.run_local_server(port=0)\n",
    "        # Save the credentials for the next run\n",
    "        with open('token.pickle', 'wb') as token:\n",
    "            pickle.dump(creds, token)\n",
    "\n",
    "    return creds"
   ]
  },
  {
   "cell_type": "code",
   "execution_count": 4,
   "metadata": {},
   "outputs": [],
   "source": [
    "def get_message(msg_id, service):\n",
    "    # message = service.users().messages().get(userId='me', id=msg_id).execute()\n",
    "    # pprint(message.keys())\n",
    "    # pprint(message)\n",
    "    #\n",
    "    # print('-'*100)\n",
    "    # date, from, subject\n",
    "\n",
    "    hs = ['Date', 'From', 'Subject', 'X-Unsubscribe-Web']\n",
    "    message = service.users().messages().get(userId='me', id=msg_id, format='metadata', metadataHeaders=hs).execute()\n",
    "\n",
    "    # pprint(message)\n",
    "    return message\n",
    "\n",
    "    # message = service.users().messages().get(userId='me', id=msg_id, format='minimal' ).execute()\n",
    "    # pprint( message)\n",
    "\n",
    "    # message = service.users().messages().get(userId='me', id=msg_id, format='full').execute()\n",
    "    # pprint( message)\n",
    "    # print(msg_id,message['historyId'],message['internalDate'],message['sizeEstimate'],message['labelIds'],message['snippet'])\n"
   ]
  },
  {
   "cell_type": "code",
   "execution_count": 5,
   "metadata": {},
   "outputs": [],
   "source": [
    "def get_messages_by_page(service):\n",
    "    label = ['CATEGORY_FORUMS']\n",
    "    maxResult = 100\n",
    "    t = ['01650191948800808238', '07460280352673579117']\n",
    "    for tt in t:\n",
    "        messages = service.users().messages().list(userId='me', labelIds=label, maxResults=maxResult,\n",
    "                                                   pageToken=t).execute()\n",
    "        pprint(messages)"
   ]
  },
  {
   "cell_type": "code",
   "execution_count": null,
   "metadata": {},
   "outputs": [],
   "source": []
  },
  {
   "cell_type": "code",
   "execution_count": 6,
   "metadata": {},
   "outputs": [],
   "source": [
    "def user_messages(service, labels):\n",
    "    labels = ['CATEGORY_PROMOTIONS']\n",
    "    print('labels: ', labels)\n",
    "    maxResult = 100\n",
    "    for label in labels:\n",
    "        print('getting emails with label:', label)\n",
    "        count = 0\n",
    "        msgId_list = []\n",
    "        msg_list = []\n",
    "        messages = service.users().messages().list(userId='me', labelIds=label, maxResults=maxResult ).execute()\n",
    "        count += len(messages)\n",
    "        # print(label, 'got', len(messages['messages']), 'of', messages['resultSizeEstimate'], 'messages')\n",
    "\n",
    "        # open writer to write each msg as processed\n",
    "\n",
    "        curr_time = datetime.datetime.strftime(datetime.datetime.now(), '%Y%m%d%H%M%S')\n",
    "        with open(label + curr_time + '.csv', 'w') as out_file:\n",
    "            msg_writer = csv.writer(out_file, delimiter=',', quotechar='\"', quoting=csv.QUOTE_MINIMAL, encoding='utf-8')\n",
    "            header = ['id', 'threadId', 'historyId', 'internalDate', 'sizeEstimate', 'labelIds', 'from', 'subject',\n",
    "                      'snippet']\n",
    "            msg_writer.writerow(header)\n",
    "\n",
    "            for msgId in messages['messages']:\n",
    "                msgId_list.append(str(msgId['id']))\n",
    "                # print('getting message for email id:', msgId['id'])\n",
    "                msg = get_message(str(msgId['id']), service)\n",
    "\n",
    "\n",
    "                from_who = msg['payload']['headers'][1]['value']\n",
    "                subject = msg['payload']['headers'][2]['value']\n",
    "                msg_writer.writerow(\n",
    "                    [msg['id'], msg['threadId'], msg['historyId'], msg['internalDate'], msg['sizeEstimate'],\n",
    "                     msg['labelIds'], from_who, subject,\n",
    "                     msg['snippet']])\n",
    "\n",
    "            print('nextPageToken:', messages['nextPageToken'])\n",
    "\n",
    "            if 'nextPageToken' in messages:\n",
    "                more = True\n",
    "                nextPageToken = messages['nextPageToken']\n",
    "\n",
    "            while more:\n",
    "                messages = service.users().messages().list(userId='me', labelIds=label, maxResults=maxResult,\n",
    "                                                           pageToken=nextPageToken).execute()\n",
    "                count += len(messages)\n",
    "\n",
    "                for msgId in messages['messages']:\n",
    "                    # msgId_list.append(str(msgId['id']))\n",
    "                    # print('getting message for email id:', str(msgId['id']))\n",
    "                    msg = get_message(str(msgId['id']), service)\n",
    "                    from_who = msg['payload']['headers'][1]['value']\n",
    "                    subject = msg['payload']['headers'][2]['value']\n",
    "                    msg_writer.writerow(\n",
    "                        [msg['id'], msg['threadId'], msg['historyId'], msg['internalDate'], msg['sizeEstimate'],\n",
    "                         msg['labelIds'], from_who, subject,\n",
    "                         msg['snippet']])\n",
    "\n",
    "                print('nextPageToken:', messages['nextPageToken'])\n",
    "                if 'nextPageToken' in messages:\n",
    "                    nextPageToken = messages['nextPageToken']\n",
    "                else:\n",
    "                    more = False\n",
    "\n",
    "                print(count)\n",
    "\n",
    "        # processed_so_far = 0\n",
    "        # for msg in messages['messages']:\n",
    "        #     processed_so_far +=1\n",
    "        #     if processed_so_far %10 ==0 :\n",
    "        #         break\n",
    "        #         # print(processed_so_far)\n",
    "        #     get_message(msg['id'], service)\n",
    "\n",
    "\n"
   ]
  },
  {
   "cell_type": "code",
   "execution_count": 7,
   "metadata": {},
   "outputs": [],
   "source": [
    "def list_user_labels(service):\n",
    "    # Call the Gmail API\n",
    "    labels = service.users().labels().list(userId='me').execute()\n",
    "    # pprint(labels['labels'])\n",
    "    label_list = []\n",
    "    # print('you have the following labels:')\n",
    "    for label in labels['labels']:\n",
    "        # print(label['type'], label['name'])\n",
    "        if str(label['name']) != 'Junk' or str(label['name']) != 'Notes':\n",
    "            label_list.append(str(label['name']))\n",
    "    # print(label_list)\n",
    "    return label_list\n",
    "\n",
    "    #\n",
    "    # labels = results.get('labels', [])\n",
    "    #\n",
    "    # if not labels:\n",
    "    #     print('No labels found.')\n",
    "    # else:\n",
    "    #     print('Labels:')\n",
    "    #     for label in labels:\n",
    "    #         print(label['name'])\n",
    "\n",
    "\n",
    "def list_user_info(service):\n",
    "    print('user info:')\n",
    "    profile = service.users().getProfile(userId='me').execute()\n",
    "    # print(profile)\n",
    "    pprint(profile)\n",
    "\n",
    "\n",
    "def user_drafts(service):\n",
    "    print('user draft:')\n",
    "    drafts = service.users().drafts().list(userId='me').execute()\n",
    "    # print(profile)\n",
    "    # drafts = {drafts:draft[], resultSizeEstimate: 37  }\n",
    "    print('You have', drafts['resultSizeEstimate'], 'drafts')\n",
    "\n",
    "    # pprint(drafts['drafts'])\n",
    "    # [{u'id': u'r6462568432385231994',\n",
    "    #   u'message': {u'id': u'16b8a800776af1d5', u'threadId': u'16b8a7feffabb463'}},\n",
    "\n",
    "    # draft = service.users().drafts().get(userId='me', id='r6462568432385231994').execute()\n",
    "    # pprint(draft)\n",
    "    # pprint(draft['message'].keys())\n",
    "    # pprint(draft)\n",
    "\n",
    "\n"
   ]
  },
  {
   "cell_type": "code",
   "execution_count": 8,
   "metadata": {},
   "outputs": [],
   "source": [
    "\n",
    "# def main():\n",
    "#     creds = get_creds()\n",
    "#     service = build('gmail', 'v1', credentials=creds)\n",
    "\n",
    "#     list_user_info(service)\n",
    "\n",
    "#     labels = list_user_labels(service)\n",
    "\n",
    "#     user_messages(service, labels)\n",
    "\n",
    "#     # get_message('16c594bc00becce9',service)\n",
    "\n",
    "#     # get_messages_by_page(service)\n",
    "    \n",
    "# if __name__ == '__main__':\n",
    "#     main()\n",
    "\n",
    "# # service.users().*\n",
    "# # * can be any end point,"
   ]
  },
  {
   "cell_type": "code",
   "execution_count": 9,
   "metadata": {},
   "outputs": [
    {
     "name": "stdout",
     "output_type": "stream",
     "text": [
      "user info:\n",
      "{u'emailAddress': u'wangqiman0111@gmail.com',\n",
      " u'historyId': u'10820981',\n",
      " u'messagesTotal': 44641,\n",
      " u'threadsTotal': 41110}\n"
     ]
    }
   ],
   "source": [
    "creds = get_creds()\n",
    "service = build('gmail', 'v1', credentials=creds)\n",
    "list_user_info(service)"
   ]
  },
  {
   "cell_type": "code",
   "execution_count": 10,
   "metadata": {},
   "outputs": [
    {
     "data": {
      "text/plain": [
       "['CATEGORY_PERSONAL',\n",
       " 'CATEGORY_SOCIAL',\n",
       " 'Junk',\n",
       " 'Notes',\n",
       " 'CATEGORY_FORUMS',\n",
       " 'IMPORTANT',\n",
       " 'wonton',\n",
       " 'CATEGORY_UPDATES',\n",
       " 'CHAT',\n",
       " 'SENT',\n",
       " 'INBOX',\n",
       " 'TRASH',\n",
       " 'CATEGORY_PROMOTIONS',\n",
       " 'DRAFT',\n",
       " 'SPAM',\n",
       " 'STARRED',\n",
       " 'UNREAD']"
      ]
     },
     "execution_count": 10,
     "metadata": {},
     "output_type": "execute_result"
    }
   ],
   "source": [
    "labels = list_user_labels(service)\n",
    "labels\n",
    "#     # get_messages_by_page(service)"
   ]
  },
  {
   "cell_type": "code",
   "execution_count": 27,
   "metadata": {},
   "outputs": [
    {
     "data": {
      "text/plain": [
       "{u'historyId': u'10749465',\n",
       " u'id': u'16c72d025fdf7c1d',\n",
       " u'internalDate': u'1565294337000',\n",
       " u'labelIds': [u'CATEGORY_SOCIAL', u'INBOX'],\n",
       " u'payload': {u'headers': [{u'name': u'From',\n",
       "    u'value': u'Monica Nagar <invitations@linkedin.com>'},\n",
       "   {u'name': u'Subject',\n",
       "    u'value': u'Qiman, please add me to your LinkedIn network'},\n",
       "   {u'name': u'Date', u'value': u'Thu, 8 Aug 2019 19:58:57 +0000 (UTC)'}],\n",
       "  u'mimeType': u'multipart/alternative'},\n",
       " u'sizeEstimate': 32147,\n",
       " u'snippet': u'Hi Qiman, I&#39;d like to join your LinkedIn network. LinkedIn Qiman Wang Hi Qiman, I&#39;d like to join your LinkedIn network. Monica Nagar PM/ Sr Recruiter - US Citizen Greater Seattle Area Accept',\n",
       " u'threadId': u'16c70cd5e1834a51'}"
      ]
     },
     "execution_count": 27,
     "metadata": {},
     "output_type": "execute_result"
    }
   ],
   "source": [
    "get_message(,service)"
   ]
  },
  {
   "cell_type": "code",
   "execution_count": 29,
   "metadata": {},
   "outputs": [
    {
     "data": {
      "text/plain": [
       "[u'16c72d025fdf7c1d',\n",
       " u'16c70cd5e1834a51',\n",
       " u'10749465',\n",
       " u'1565294337000',\n",
       " 32147,\n",
       " [u'CATEGORY_SOCIAL', u'INBOX'],\n",
       " u'Qiman, please add me to your LinkedIn network',\n",
       " u'Thu, 8 Aug 2019 19:58:57 +0000 (UTC)',\n",
       " u'Hi Qiman, I&#39;d like to join your LinkedIn network. LinkedIn Qiman Wang Hi Qiman, I&#39;d like to join your LinkedIn network. Monica Nagar PM/ Sr Recruiter - US Citizen Greater Seattle Area Accept']"
      ]
     },
     "execution_count": 29,
     "metadata": {},
     "output_type": "execute_result"
    }
   ],
   "source": [
    "msg = get_message('16c72d025fdf7c1d', service)\n",
    "\n",
    "\n",
    "from_who = msg['payload']['headers'][1]['value']\n",
    "subject = msg['payload']['headers'][2]['value']\n",
    "list(\n",
    "    [msg['id'], msg['threadId'], msg['historyId'], msg['internalDate'], msg['sizeEstimate'],\n",
    "     msg['labelIds'], from_who, subject,\n",
    "     msg['snippet']])\n"
   ]
  },
  {
   "cell_type": "code",
   "execution_count": 30,
   "metadata": {},
   "outputs": [
    {
     "data": {
      "text/plain": [
       "{u'headers': [{u'name': u'From',\n",
       "   u'value': u'Monica Nagar <invitations@linkedin.com>'},\n",
       "  {u'name': u'Subject',\n",
       "   u'value': u'Qiman, please add me to your LinkedIn network'},\n",
       "  {u'name': u'Date', u'value': u'Thu, 8 Aug 2019 19:58:57 +0000 (UTC)'}],\n",
       " u'mimeType': u'multipart/alternative'}"
      ]
     },
     "execution_count": 30,
     "metadata": {},
     "output_type": "execute_result"
    }
   ],
   "source": [
    "msg['payload']"
   ]
  },
  {
   "cell_type": "code",
   "execution_count": 36,
   "metadata": {},
   "outputs": [
    {
     "name": "stdout",
     "output_type": "stream",
     "text": [
      "{u'name': u'From', u'value': u'Monica Nagar <invitations@linkedin.com>'}\n",
      "Monica Nagar <invitations@linkedin.com>\n",
      "{u'name': u'Subject', u'value': u'Qiman, please add me to your LinkedIn network'}\n",
      "{u'name': u'Date', u'value': u'Thu, 8 Aug 2019 19:58:57 +0000 (UTC)'}\n"
     ]
    }
   ],
   "source": [
    "for kv in msg['payload']['headers']:\n",
    "    print(kv)\n",
    "    if kv['name']== 'From':\n",
    "        print(kv['value'])"
   ]
  },
  {
   "cell_type": "code",
   "execution_count": null,
   "metadata": {},
   "outputs": [],
   "source": []
  }
 ],
 "metadata": {
  "kernelspec": {
   "display_name": "Python 2",
   "language": "python",
   "name": "python2"
  },
  "language_info": {
   "codemirror_mode": {
    "name": "ipython",
    "version": 2
   },
   "file_extension": ".py",
   "mimetype": "text/x-python",
   "name": "python",
   "nbconvert_exporter": "python",
   "pygments_lexer": "ipython2",
   "version": "2.7.16"
  }
 },
 "nbformat": 4,
 "nbformat_minor": 2
}
