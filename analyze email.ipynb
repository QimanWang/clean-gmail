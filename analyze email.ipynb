{
 "cells": [
  {
   "cell_type": "code",
   "execution_count": 1,
   "metadata": {},
   "outputs": [],
   "source": [
    "import pandas as pd\n",
    "import os"
   ]
  },
  {
   "cell_type": "code",
   "execution_count": 2,
   "metadata": {},
   "outputs": [
    {
     "name": "stdout",
     "output_type": "stream",
     "text": [
      "/Users/qwang/Desktop/me/clean-gmail\n",
      "/Users/qwang/Desktop/me/clean-gmail/data\n"
     ]
    },
    {
     "data": {
      "text/plain": [
       "['DRAFT20190815190223.csv',\n",
       " 'CHAT20190815171852.csv',\n",
       " 'IMPORTANT20190815155342.csv',\n",
       " 'STARRED20190815190223.csv',\n",
       " 'CATEGORY_SOCIAL20190815153755.csv',\n",
       " 'CATEGORY_UPDATES20190815160522.csv',\n",
       " 'CATEGORY_PERSONAL20190815152910.csv',\n",
       " 'CATEGORY_PROMOTIONS20190815142914.csv',\n",
       " 'CATEGORY_FORUMS20190815155247.csv']"
      ]
     },
     "execution_count": 2,
     "metadata": {},
     "output_type": "execute_result"
    }
   ],
   "source": [
    "print(os.getcwd())\n",
    "os.chdir('./data/')\n",
    "print(os.getcwd())\n",
    "os.listdir('.')"
   ]
  },
  {
   "cell_type": "code",
   "execution_count": 3,
   "metadata": {},
   "outputs": [],
   "source": [
    "# get length of file\n",
    "def file_len(fname):\n",
    "    with open(fname) as f:\n",
    "        for i, l in enumerate(f):\n",
    "            pass\n",
    "    return i "
   ]
  },
  {
   "cell_type": "code",
   "execution_count": 4,
   "metadata": {},
   "outputs": [
    {
     "data": {
      "text/plain": [
       "{'CATEGORY_FORUMS20190815155247.csv': 319,\n",
       " 'CATEGORY_PERSONAL20190815152910.csv': 2889,\n",
       " 'CATEGORY_PROMOTIONS20190815142914.csv': 16466,\n",
       " 'CATEGORY_SOCIAL20190815153755.csv': 5384,\n",
       " 'CATEGORY_UPDATES20190815160522.csv': 15763,\n",
       " 'CHAT20190815171852.csv': 983,\n",
       " 'DRAFT20190815190223.csv': 0,\n",
       " 'IMPORTANT20190815155342.csv': 4230,\n",
       " 'STARRED20190815190223.csv': 98}"
      ]
     },
     "execution_count": 4,
     "metadata": {},
     "output_type": "execute_result"
    }
   ],
   "source": [
    "# get each email file stat\n",
    "def total_email_stat():\n",
    "    email_count_by_label = {}\n",
    "    for file in os.listdir('.'):\n",
    "        email_count_by_label[file]= file_len(file)\n",
    "    return email_count_by_label\n",
    "email_stats = total_email_stat()\n",
    "email_stats"
   ]
  },
  {
   "cell_type": "code",
   "execution_count": 5,
   "metadata": {},
   "outputs": [],
   "source": [
    "def extract_from_email(email):\n",
    "    res = ''\n",
    "    try:\n",
    "        res = email.split('@')[1]\n",
    "    except:\n",
    "        print('canot split',email)\n",
    "    return res"
   ]
  },
  {
   "cell_type": "markdown",
   "metadata": {},
   "source": [
    "## email from"
   ]
  },
  {
   "cell_type": "code",
   "execution_count": 6,
   "metadata": {},
   "outputs": [
    {
     "name": "stdout",
     "output_type": "stream",
     "text": [
      "------------------------------------------------------------\n",
      "('CATEGORY_UPDATES20190815160522.csv', 15763)\n",
      "<https://lensa.com/profile-settings/job-alert/?autounsubscribe=true&tok=612d0835-ded9-47e6-ab79-ce7247f877e1&utm_source=unsubscribe-header&utm_campaign=jobalert&utm_medium=email>       81\n",
      "<https://lensa.com/profile-settings/aggregated/?autounsubscribe=true&tok=612d0835-ded9-47e6-ab79-ce7247f877e1&utm_source=unsubscribe-header&utm_campaign=aggregated&utm_medium=email>    44\n",
      "<https://lensa.com/profile-settings/lensa24/?autounsubscribe=true&tok=612d0835-ded9-47e6-ab79-ce7247f877e1&utm_source=unsubscribe-header&utm_campaign=lensa24&utm_medium=email>          24\n",
      "<http://gmatclub.com/lists/?p=unsubscribe&uid=f26d11337327311af29c4dd23ed51c7b&jo=1>                                                                                                     15\n",
      "<mailto:bounce@mail.paypal.com?subject=list-unsubscribe>                                                                                                                                  9\n",
      "<mailto:abuse@qemailserver.com>                                                                                                                                                           7\n",
      "http://neuvoo.com/my/notifications/?e_token=39a91aafdaa22ae949af7aa7faa33aaf9aa2gdcgfddffd&authToken=44ff8068d9f047c0&lang=en&unsubscribe=31fe23ff348f                                    6\n",
      "<https://visitor.constantcontact.com/do?p=un&m=001vpKUGclSANvdbvjmFgXjSw%3D%3D&se=001EBQZlkerNtkBNSIT61jiYQ%3D%3D&t=001EkZLEx15CcE%3D&llr=inelxc5ab>                                      5\n",
      "<https://angel.co/l/6396af83629a7fe2520400182b3f1870/2aAVH9>                                                                                                                              5\n",
      "http://www.trulia.com/unsubscribe?email=wangqiman0111%40gmail.com&uid=38130540&et=30&auth=6a912f079b&cid=eml|fsb|con_day_openhmsrch_bk|con_day_openhmsrch_bk                              4\n",
      "Name: List-Unsubscribe, dtype: int64\n",
      "6335\n",
      "------------------------------------------------------------\n",
      "('CATEGORY_FORUMS20190815155247.csv', 319)\n",
      "<mailto:QC-CS320-unsubscribe@yahoogroups.com>                                                                                                                              37\n",
      "<mailto:googlegroups-manage+968574062715+unsubscribe@googlegroups.com>, <https://groups.google.com/a/google.com/group/hashcode-announce-external/subscribe>                 3\n",
      "<mailto: QC-CS320-unsubscribe@yahoogroups.com>                                                                                                                              2\n",
      "<mailto:googlegroups-manage+75084852735+unsubscribe@googlegroups.com>, <https://groups.google.com/group/teacherchen/subscribe>                                              2\n",
      "<mailto:unsub+AEUTRUORGKJ7HQBVT5IEGVV3HXSPLEVBNHHBX6IUWI@reply.github.com>, <https://github.com/notifications/unsubscribe/AEUTRUKRF55S2GWVHOXALODQACU7LANCNFSM4IESAXTA>     1\n",
      "<mailto:unsub+AEUTRUKOTJSKTAPYJRXEII53HS2FBEVBNHHBX6WOUM@reply.github.com>, <https://github.com/notifications/unsubscribe/AEUTRUOL4S3Z5VRPLNNRO23P754VBANCNFSM4IEUCV6Q>     1\n",
      "<mailto:unsub+AEUTRUJPEGVAI4SUHW7PFEN3ISFFLEVBNHHBYIAVBA@reply.github.com>, <https://github.com/notifications/unsubscribe/AEUTRUI66SEENYENO3HCN23QA5HVLANCNFSM4IGHXOLQ>     1\n",
      "<mailto:unsub+AEUTRUOGNOAE4UDXPT7LY3V22JKBZEVBNHHBUFW7YQ@reply.github.com>, <https://github.com/notifications/unsubscribe/AEUTRUPJFENB3B6EUYXQVHDPSUMRZANCNFSM4HIWGWXA>     1\n",
      "<mailto:unsub+AEUTRUOGHZ55CPWKCP2NITV3H37MPEVBNHHBYAWZHE@reply.github.com>, <https://github.com/notifications/unsubscribe/AEUTRUPZ4HVKNO6WVKX2ETLQAHB4PANCNFSM4IE65LFQ>     1\n",
      "<mailto:unsub+AEUTRUM4FXVJSW55U5FUH2N3HYNTHEVBNHHBYA3T7I@reply.github.com>, <https://github.com/notifications/unsubscribe/AEUTRUIBHF5NPCJGP353VPTQADQDHANCNFSM4IE7UPNA>     1\n",
      "Name: List-Unsubscribe, dtype: int64\n",
      "169\n",
      "------------------------------------------------------------\n",
      "('CATEGORY_SOCIAL20190815153755.csv', 5384)\n",
      "<mailto:returnto+bn+b0zG024XC8QwTqs9CJnUFNXh09-0v38c1xoYsHJA6U84bL96L_KlCw@yelp.com>                                                                                                                                                                                                                                                                                                                                                                                             106\n",
      "http://soundcloud.com/settings/email                                                                                                                                                                                                                                                                                                                                                                                                                                               2\n",
      "<https://www.facebook.com/o.php?k=AS0Y9ukv42pF1zD9&u=100005383817997&mid=524a8bd6903c1G5af45160cb0dG524a906ff0693G32fG8646>                                                                                                                                                                                                                                                                                                                                                        2\n",
      "<https://twitter.com/i/u?t=1&listunsub=t&cn=ZmxleGlibGVfcmVjcw%3D%3D&sig=a08345271319e8710a7a1eccbe24a4fcfe92a639&iid=fb1c324003c849178e5e50ef9b3c08c6&uid=2787131761&nid=244+26&usbid=6>                                                                                                                                                                                                                                                                                          2\n",
      "<https://twitter.com/i/u?t=1&listunsub=t&cn=ZmxleGlibGVfcmVjc18y&sig=75f7af1e629de77c961ca068f4ac81e6dfa44ad4&iid=8a6d9ede495d489ea2c150c3bd500959&uid=2787131761&nid=244+26&usbid=6>                                                                                                                                                                                                                                                                                              2\n",
      "<https://twitter.com/i/u?t=1&listunsub=t&cn=ZmxleGlibGVfcmVjcw%3D%3D&sig=842dc9bffbb2310282f7830a22444eae5c84fe45&iid=ccfd48dd89e5411ab80007363c925f01&uid=2787131761&nid=244+26&usbid=7>                                                                                                                                                                                                                                                                                          2\n",
      "<https://www.linkedin.com/e/v2?e=8nbif1-iymlal7s-7r&a=nsettings-loid-email-unsubscribe-router&midToken=AQHmIChA1bdKaw&ek=network_updates_digest&li=1101&m=unsub&ts=unsub&loid=AQEkBvYKzq_SagAAAVn49HPhecL7NBduHipOndRVSMVUneATa5mpb_Lo7nsH1yoczyi6VjniBsRq_RcZihKvzgecrDjvy_-oo5BZfD5uokIs&eid=8nbif1-iymlal7s-7r>                                                                                                                                                                 1\n",
      "<https://www.facebook.com/o.php?k=AS0gb1UAu5gmHvFp&u=100005383817997&mid=58b82e0cefea9G5af45160cb0dG58b832a65017bG32b>                                                                                                                                                                                                                                                                                                                                                             1\n",
      "<https://e.linkedin.com/pub/optout/UnsubscribeOneStepConfirmAction?YES=true&_ri_=X0Gzc2X%3DYQpglLjHJlYQGhGYzg8f2JwzchzdnFrpNIFczg1kWj3zfg3rrzc50Lhqf3pT0jbzd8KHKCb&_ei_=EolaGGF4SNMvxFF7KucKuWOwys1GFgWzyzYFeC3t9DGxZntfpg-yFvuCxB4E7MS-RXpO62ysQW3zP49JU-swchQppEpmnixDwkVzF7FlLz9w9-ROII7HSfBKroHQpaQSGgzd>, <mailto:unsubscribe-YQpglLjHJlYQGhGYzg8f2JwzchzdnFrpNIFczg1kWj3zfg3rrzc50Lhqf3pT0jbzd8KHKCb@imh.rsys5.com?subject=List-Unsubscribe>                                 1\n",
      "<https://e.linkedin.com/pub/optout/UnsubscribeOneStepConfirmAction?YES=true&_ri_=X0Gzc2X%3DYQpglLjHJlYQGjzbnEY2yzaRmowzgzcTL7tzbzdCszc6NYJSCek4PBOgzaoInzfEb4Os9Oiaw&_ei_=EolaGGF4SNMvxFF7KucKuWOwys1GFgWzyzYFeC3t9DGxf4fJJvt14AdlZnWt4NbB63C7JKDfqZsaYFZ-iI7nnb7sFegBMwbZRHyhbBK8A7dlrnI1I5rYaQuLsNmuxRjgqncCti6m4ToiUtcgp7dnb_qzX8c>, <mailto:unsubscribe-YQpglLjHJlYQGjzbnEY2yzaRmowzgzcTL7tzbzdCszc6NYJSCek4PBOgzaoInzfEb4Os9Oiaw@imh.rsys5.com?subject=List-Unsubscribe>      1\n",
      "Name: List-Unsubscribe, dtype: int64\n",
      "4042\n",
      "------------------------------------------------------------\n",
      "('DRAFT20190815190223.csv', 0)\n",
      "Series([], Name: List-Unsubscribe, dtype: int64)\n",
      "0\n",
      "------------------------------------------------------------\n",
      "('STARRED20190815190223.csv', 98)\n",
      "<mailto:unsubscribe-80fb135c6fc89c856afe468f5096e3da@info5.accountonline.com?subject=Unsubscribe>                                                                                                                                                                                                                                                                                                                                                                                                                                                                                                                                                                                1\n",
      "<mailto:unsubscribe-581532ace61e6bf0dcc64cf0ee2b8cceb47d3e11d95383e14023c7ada6973b31@info4.citi.com?subject=Unsubscribe>                                                                                                                                                                                                                                                                                                                                                                                                                                                                                                                                                         1\n",
      "<https://jobs.jcrew.com/unsubscribe/?email=wangqiman0111%40gmail%2ecom&from=email&refid=5378625800&utm_source=J2WEmail&source=2&eid=659-201756090556-11253220700&locale=en_US>                                                                                                                                                                                                                                                                                                                                                                                                                                                                                                   1\n",
      "<https://www.linkedin.com/e/v2?e=8nbif1-jucuehv3-7u&t=lun&midToken=AQHmIChA1bdKaw&ek=email_jobs_job_application_viewed_01&li=30&m=unsub&ts=unsub&loid=AQHLjiE4b0JKgwAAAWoNLZQJNIMsxWMk8jsc6bOi5GvrpzyjaCw4-4ds9XdXlKFJcNWmTsMttu5quv8ZXk7_y22onCsO01LY8DdBafFc8zyA1npw1qBCyYo&eid=8nbif1-jucuehv3-7u>                                                                                                                                                                                                                                                                                                                                                                            1\n",
      "<mailto:unsubscribe@unsub.spmta.com?subject=unsubscribe:EIOCN9WeyCazJbSF5ymwO2xs-jPMzFjydfVXqzIvWjQ~|eyAicmNwdF90byI6ICJXQU5HUUlNQU4wMTExQGdtYWlsLmNvbSIsICJ0ZW5hbnRfaWQiOiAic3BjIiwgImN1c3RvbWVyX2lkIjogIjExMTYyOCIsICJzdWJhY2NvdW50X2lkIjogIjEzOSIsICJtZXNzYWdlX2lkIjogIjAwMDU3OGEyZmM1YjQzZTEwMjc0IiB9>                                                                                                                                                                                                                                                                                                                                                                       1\n",
      "<mailto:leave-fd8816711a3c402029-fe541274716d0d7d7d17-feca11777664047b-fe9313727565037a71-ff5e137877@leave.member.americanexpress.com>                                                                                                                                                                                                                                                                                                                                                                                                                                                                                                                                           1\n",
      "<mailto:unsubscribe@sparkpost.ziprecruiter.com?subject=unsubscribe:9_wbnQuMmeax039548H4WVVRkk0ViUw5ih9Y1KZMpNU~|eyAicmNwdF90byI6ICJ3YW5ncWltYW4wMTExQGdtYWlsLmNvbSIsICJyY3B0X21ldGEiOiAie1wiYmluZGluZ1wiOlwibWVkXCIsXCJjb250YWN0X2lkXCI6XCI2YmIwYTU5ZlwiLFwicmVjaXBpZW50X3R5cGVcIjpcInBcIn0iLCAidGVuYW50X2lkIjogInppcCIsICJtZXNzYWdlX2lkIjogIjAwMDNmZDM0ZjM1OWVmOGRjYTJkIiwgImNhbXBhaWduX2lkIjogInlvdXJuZXh0am9iaXNoZXJlIiwgIm1haWxmcm9tIjogImJvdW5jZXNAbWVkLnNwLm15emlwYWxlcnRzLmNvbSIsICJjdXN0b21lcl9pZCI6ICIxIiwgImZyaWVuZGx5X2Zyb20iOiAibm9yZXBseUBqb2JwZXJmb3JtYW5jZXRlYW0uY29tIiwgInN1YmFjY291bnRfaWQiOiAiMCIsICJ0cmFuc21pc3Npb25faWQiOiAiNjY2OTAzNjg0ODczMjM4NDUiIH0~>    1\n",
      "<mailto:unsubscribe-md_30173720.584da74c.v1-7929aecc582f4381a958b667397d0737@mailin1.us2.mcsv.net?subject=unsub>                                                                                                                                                                                                                                                                                                                                                                                                                                                                                                                                                                 1\n",
      "<https://www.google.com/appserve/mkt/optout/AFnwnKUcY5O_edokaZsDvdarkMbTzA7rXKjq6YIr2FjxtsG08PWIyN_xCskEej_NVKoTu7Z9QQ?hl=en>                                                                                                                                                                                                                                                                                                                                                                                                                                                                                                                                                    1\n",
      "<mailto:unsub_eflptb_dmqccswd@em.updates-todaysjobalerts.com?subject=unsubscribe>                                                                                                                                                                                                                                                                                                                                                                                                                                                                                                                                                                                                1\n",
      "Name: List-Unsubscribe, dtype: int64\n",
      "20\n",
      "------------------------------------------------------------\n",
      "('IMPORTANT20190815155342.csv', 4230)\n",
      "<mailto:abuse@qemailserver.com>                                                                                                                                                                                                                            5\n",
      "<https://visitor.constantcontact.com/do?p=un&m=001vpKUGclSANvdbvjmFgXjSw%3D%3D&se=001EBQZlkerNtkBNSIT61jiYQ%3D%3D&t=001EkZLEx15CcE%3D&llr=inelxc5ab>                                                                                                       2\n",
      "<mailto:unsub+012938d1f0855fc27e41ec35288b41503973b97866d5f55b92cf0000000116b8183592a169ce11e9314a@reply.github.com>, <https://github.com/notifications/unsubscribe/ASk40SPQfvIswrI3kJJG2hM7pfW59ZLZks5tcE21gaJpZM4SUXLF>                                  1\n",
      "<https://www.linkedin.com/e/v2?e=8nbif1-jvfify2a-ht&t=lun&midToken=AQHmIChA1bdKaw&ek=email_inmail_initial_single_01&loid=AQFhCnebiwlNAAAAAWqYigrxA52T7Tqemzh7YO1VaWMGzPPXLMuauNxbUYPIJuHplFnP2l3IUJFyYDZOKJeb0xVdKlyxNySG6vOd2Q&eid=8nbif1-jvfify2a-ht>    1\n",
      "<https://www2.emeritus.org/listUnsubscribeHeader/u/134351/1563ff8435d3824482fc5d0bba4e4f912a4520f05ae4ecbf292d8f615169c161/254661009>                                                                                                                      1\n",
      "<https://login20.monster.com/unsubscribe/message?ch=MONS&id=EAAQQx96s.4VRxCTZK48oD.ZWBeHcpbJglPKOfHlSySw7.exX4HA2Kdy9etG4x.2LgqtoaD4EUAgzJj3O7sGAGv0rTrzLJicPpchqQomfwj0FrYNsY.Mgk8U3a3f1UPawwicwT99ClCsHvbLy5b9skpJ7A-->                                  1\n",
      "<http://link.investopedia.com/oc/5b6cefd26780895d806b66ea5b6d9b909c625f447871da57/2137a60d>, <mailto:unsubscribe_20180810140504.5b6d9b909c625f447871da57@mx.sailthru.com>                                                                                  1\n",
      "<mailto:viacom+autoreply+9D0A469957@talent.icims.com?subject=unsubscribe&contactId=4597483>, <https://viacom.icims.com/icims2/?r=9D0A469957&contactId=4597483&pid=80&process=1>                                                                            1\n",
      "<https://www.linkedin.com/e/v2?e=8nbif1-jgwolh7n-g3&t=lun&midToken=AQHmIChA1bdKaw&ek=inmail_reply&loid=AQE14JAqi2-SLQAAAWM8OqiGPLRJvLzGWlCT7c0xLqxFqLnbMKTpd6KDV6v1wohTe7ywVfXsvhkXXjt6AMNOyvBcz3fnCnCw4XRmZg&eid=8nbif1-jgwolh7n-g3>                      1\n",
      "<https://plus.google.com/_/notifications/emlink?emr=16967671392106777058&emid=CIDM_Nfbz7wCFfEntAod1zQAAA&path=%2F109774754926174447119%2Fop%2Fmute&dt=1392521728941&ub=6>                                                                                  1\n",
      "Name: List-Unsubscribe, dtype: int64\n",
      "588\n",
      "------------------------------------------------------------\n",
      "('CHAT20190815171852.csv', 983)\n",
      "Series([], Name: List-Unsubscribe, dtype: int64)\n",
      "0\n",
      "------------------------------------------------------------\n",
      "('CATEGORY_PERSONAL20190815152910.csv', 2889)\n",
      "<mailto:unsub+AEUTRUJZG76XSHRMEZL6JWF3JBJPHEVBNHHBYN6MFI@reply.github.com>, <https://github.com/notifications/unsubscribe/AEUTRUIZRAKQ3VWSUMW6XKTQBML7HANCNFSM4IHE6MKA>    1\n",
      "<mailto:unsub+AEUTRUP3CZ62GNFO45G46353JTBBTEVBNHHBYRK3RM@reply.github.com>, <https://github.com/notifications/unsubscribe/AEUTRUMO6MZKWVB7D2NCWB3QB6DRTANCNFSM4IHXFKOQ>    1\n",
      "<mailto:unsub+AEUTRUMU44Y7NNFZFD6KAU53JA6P3EVBNHHBYNZETI@reply.github.com>, <https://github.com/notifications/unsubscribe/AEUTRUM4U22ZKIMXLJRGSALQBMA73ANCNFSM4IHEE7WA>    1\n",
      "<mailto:unsub+AEUTRUKUHK2SKQHMZ57XVLV3I3YVBEVBNHHBYL6DOI@reply.github.com>, <https://github.com/notifications/unsubscribe/AEUTRUOI6DRNWAP4EAE7NEDQBG3FBANCNFSM4IG3EBTA>    1\n",
      "<mailto:unsub+AEUTRUPFJ2WNBCTBHR7OLTV3I4DUTEVBNHHBYMFLJI@reply.github.com>, <https://github.com/notifications/unsubscribe/AEUTRUJ3X7YTN7OX4PUJEPLQBHGETANCNFSM4IG4G5UQ>    1\n",
      "<mailto:unsub+AEUTRUNFWWBMG4P5W6ZC6OF3JA6XDEVBNHHBYNZETI@reply.github.com>, <https://github.com/notifications/unsubscribe/AEUTRUI7EFQMQG2I4WMOZ23QBMBHDANCNFSM4IHEE7WA>    1\n",
      "<mailto:unsub+AEUTRUKZMGJQYWBL23CASVN3JTWFNEVBNHHBYRQLCE@reply.github.com>, <https://github.com/notifications/unsubscribe/AEUTRUKNAXAKCOFTZFVYTILQB6YVNANCNFSM4IHYBBAQ>    1\n",
      "<https://www.facebook.com/o.php?k=AS07KStdn5J5aQxe&u=100005383817997&mid=57e4f529f3b3fG5af45160cb0dG57e4f9c353e11G5dd>                                                     1\n",
      "<mailto:unsub+AEUTRUJNECXBJFLBUGWIFU53JXOELEVBNHHBYTHTLU@reply.github.com>, <https://github.com/notifications/unsubscribe/AEUTRUMZSLGJ7SD3ZSX7T3DQCCQULANCNFSM4IIAAO5A>    1\n",
      "<mailto:unsub+AEUTRUPJMFMVNJPICQFK7EN3JBXKREVBNHHBYN56FE@reply.github.com>, <https://github.com/notifications/unsubscribe/AEUTRUPYEKLUZJ2S4P6JFILQBMZ2RANCNFSM4IHE4JQQ>    1\n",
      "Name: List-Unsubscribe, dtype: int64\n",
      "172\n"
     ]
    },
    {
     "name": "stdout",
     "output_type": "stream",
     "text": [
      "------------------------------------------------------------\n",
      "('CATEGORY_PROMOTIONS20190815142914.csv', 16466)\n",
      "<mailto:bounce@mail.paypal.com?subject=list-unsubscribe>                                                                                                                                    85\n",
      "http://www.trulia.com/unsubscribe?email=wangqiman0111%40gmail.com&uid=38130540&et=29&auth=e8ebe93859&ecampaign=eml|fsb|con_day_propertysearchforsale_bk|con_day_propertysearchforsale_bk    57\n",
      "<mailto:unsubscribe@e-nonprofit6.com>                                                                                                                                                       30\n",
      "<https://lensa.com/profile-settings/job-alert/?autounsubscribe=true&tok=612d0835-ded9-47e6-ab79-ce7247f877e1&utm_source=unsubscribe-header&utm_campaign=jobalert&utm_medium=email>          29\n",
      "http://www.trulia.com/unsubscribe?email=wangqiman0111%40gmail.com&uid=38130540&et=29&auth=e8ebe93859&ecampaign=con_day_propertysearchforsale_bk                                             28\n",
      "http://www.trulia.com/unsubscribe?email=wangqiman0111%40gmail.com&uid=38130540&et=30&auth=6a912f079b&cid=eml|fsb|con_day_openhmsrch_bk|con_day_openhmsrch_bk                                26\n",
      "<https://visitor.constantcontact.com/do?p=un&m=001vpKUGclSANvdbvjmFgXjSw%3D%3D&se=001EBQZlkerNtkBNSIT61jiYQ%3D%3D&t=001EkZLEx15CcE%3D&llr=inelxc5ab>                                        24\n",
      "http://www.trulia.com/unsubscribe?email=wangqiman0111%40gmail.com&uid=38130540&et=29&auth=e8ebe93859&ecampaign=eml|fsb|con_day_propertysearchsold_bk|con_day_propertysearchsold_bk          23\n",
      "http://www.eventbrite.com/unsubscribe?email=wangqiman0111%40gmail.com&list_id=3&sig=AGNbPwH0goLuRXbpjXzyBXuMN1kaMvr78g                                                                      21\n",
      "<https://angel.co/l/da45dd33da9848ab308d7228690de358/27oCEz>                                                                                                                                18\n",
      "Name: List-Unsubscribe, dtype: int64\n",
      "12679\n"
     ]
    }
   ],
   "source": [
    "# df['Message-ID'].apply(extract_from_email).value_counts()\n",
    "col ='List-Unsubscribe'\n",
    "for file in email_stats:\n",
    "    df = pd.read_csv(file)\n",
    "    print('-'*60)\n",
    "    print(file,email_stats[file])\n",
    "    print(df[col].value_counts().head(10))\n",
    "    print(sum(df[col].value_counts()))\n",
    "        "
   ]
  },
  {
   "cell_type": "code",
   "execution_count": 7,
   "metadata": {},
   "outputs": [],
   "source": [
    "Subject_dict = {}\n",
    "\n",
    "for index, row in df.iterrows():\n",
    "#     if index == 5928:\n",
    "    \n",
    "    if pd.notnull(row['Subject']):\n",
    "#         print(type(row['From']), type(row['Subject']))\n",
    "#         if row['Subject']\n",
    "        pass"
   ]
  },
  {
   "cell_type": "code",
   "execution_count": 8,
   "metadata": {},
   "outputs": [],
   "source": [
    "# from_dict = {}\n",
    "# for index, row in df.iterrows():\n",
    "# #     print(df['From'])\n",
    "        \n",
    "#     if '@' in row['From']:\n",
    "#         f = row['From'] \n",
    "#     else:\n",
    "#         f = row['Message-ID']\n",
    "#     if f in from_dict:\n",
    "#         from_dict[f]+=1\n",
    "#     else:\n",
    "#         from_dict[f]=1\n",
    "\n",
    "#         d = from_dict\n",
    "        \n",
    "# for w in sorted(d, key=d.get, reverse=True):\n",
    "#     print(w, d[w])"
   ]
  },
  {
   "cell_type": "code",
   "execution_count": null,
   "metadata": {},
   "outputs": [],
   "source": []
  },
  {
   "cell_type": "code",
   "execution_count": null,
   "metadata": {},
   "outputs": [],
   "source": []
  }
 ],
 "metadata": {
  "kernelspec": {
   "display_name": "Python 2",
   "language": "python",
   "name": "python2"
  },
  "language_info": {
   "codemirror_mode": {
    "name": "ipython",
    "version": 2
   },
   "file_extension": ".py",
   "mimetype": "text/x-python",
   "name": "python",
   "nbconvert_exporter": "python",
   "pygments_lexer": "ipython2",
   "version": "2.7.16"
  }
 },
 "nbformat": 4,
 "nbformat_minor": 2
}
